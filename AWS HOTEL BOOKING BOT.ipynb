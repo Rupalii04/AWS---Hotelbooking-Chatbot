{
  "cells": [
    {
      "cell_type": "markdown",
      "metadata": {
        "colab_type": "text",
        "id": "view-in-github"
      },
      "source": [
        "<a href=\"https://colab.research.google.com/github/PradipNichite/Youtube-Tutorials/blob/main/AWS_Lex_boto3_Youtube.ipynb\" target=\"_parent\"><img src=\"https://colab.research.google.com/assets/colab-badge.svg\" alt=\"Open In Colab\"/></a>"
      ]
    },
    {
      "cell_type": "code",
      "execution_count": null,
      "id": "78ce5f46",
      "metadata": {
        "id": "78ce5f46"
      },
      "outputs": [],
      "source": [
        "!pip install boto3"
      ]
    },
    {
      "cell_type": "code",
      "execution_count": null,
      "id": "27e24502",
      "metadata": {
        "id": "27e24502"
      },
      "outputs": [],
      "source": [
        "import boto3"
      ]
    },
    {
      "cell_type": "code",
      "execution_count": null,
      "id": "161a7d07",
      "metadata": {
        "colab": {
          "base_uri": "https://localhost:8080/"
        },
        "id": "161a7d07",
        "outputId": "6ef012a4-1511-4abe-ab03-02be287cc1fe"
      },
      "outputs": [
        {
          "data": {
            "text/plain": [
              "<botocore.client.LexRuntimeV2 at 0x7f7b97829a10>"
            ]
          },
          "execution_count": 3,
          "metadata": {},
          "output_type": "execute_result"
        }
      ],
      "source": [
        "\n",
        "client = boto3.client('lexv2-runtime',region_name='REGION NAME',aws_access_key_id='YOUR IAM ACCESS KEY',aws_secret_access_key='YOUR IAM USER SECRET KEY')\n",
        "client"
      ]
    },
    {
      "cell_type": "code",
      "execution_count": null,
      "id": "_R_5u-jkvgXE",
      "metadata": {
        "id": "_R_5u-jkvgXE"
      },
      "outputs": [],
      "source": [
        "# Book hotel\n",
        "# Mumbai\n",
        "# 25-08-2022\n",
        "# king"
      ]
    },
    {
      "cell_type": "code",
      "execution_count": null,
      "id": "UjQFiTJ4bilv",
      "metadata": {
        "id": "UjQFiTJ4bilv"
      },
      "outputs": [],
      "source": [
        "\n",
        "\n",
        "botId = \"YOUR BOT ID\"\n",
        "botAliasId = \"your language alias id\"\n",
        "localeId = \"en_US\"\n",
        "sessionId = \"100\""
      ]
    },
    {
      "cell_type": "code",
      "execution_count": null,
      "id": "2361010a",
      "metadata": {
        "colab": {
          "base_uri": "https://localhost:8080/"
        },
        "id": "2361010a",
        "outputId": "18428e90-0806-4238-f3f5-1e1844e772af"
      },
      "outputs": [
        {
          "data": {
            "text/plain": [
              "{'ResponseMetadata': {'RequestId': 'afca95a0-b457-472b-aadf-97b237ba73ea',\n",
              "  'HTTPStatusCode': 200,\n",
              "  'HTTPHeaders': {'x-amzn-requestid': 'afca95a0-b457-472b-aadf-97b237ba73ea',\n",
              "   'strict-transport-security': 'max-age=31536000; includeSubDomains',\n",
              "   'x-content-type-options': 'nosniff',\n",
              "   'date': 'Tue, 23 Aug 2022 18:24:51 GMT',\n",
              "   'content-type': 'application/json',\n",
              "   'content-length': '655'},\n",
              "  'RetryAttempts': 0},\n",
              " 'messages': [{'content': 'What city will you be staying in?',\n",
              "   'contentType': 'PlainText'}],\n",
              " 'sessionState': {'dialogAction': {'type': 'ElicitSlot',\n",
              "   'slotToElicit': 'Location'},\n",
              "  'intent': {'name': 'BookHotel',\n",
              "   'slots': {'CheckInDate': None,\n",
              "    'Location': None,\n",
              "    'Nights': None,\n",
              "    'RoomType': None},\n",
              "   'state': 'InProgress',\n",
              "   'confirmationState': 'None'},\n",
              "  'originatingRequestId': 'afca95a0-b457-472b-aadf-97b237ba73ea'},\n",
              " 'interpretations': [{'nluConfidence': {'score': 0.95},\n",
              "   'intent': {'name': 'BookHotel',\n",
              "    'slots': {'CheckInDate': None,\n",
              "     'Location': None,\n",
              "     'Nights': None,\n",
              "     'RoomType': None},\n",
              "    'state': 'InProgress',\n",
              "    'confirmationState': 'None'}},\n",
              "  {'intent': {'name': 'FallbackIntent', 'slots': {}}}],\n",
              " 'sessionId': '100'}"
            ]
          },
          "execution_count": 5,
          "metadata": {},
          "output_type": "execute_result"
        }
      ],
      "source": [
        "response = client.recognize_text(\n",
        "    botId=botId,\n",
        "    botAliasId=botAliasId,\n",
        "    localeId=localeId,\n",
        "    sessionId=sessionId,\n",
        "    text='Book hotel')\n",
        "response"
      ]
    },
    {
      "cell_type": "code",
      "execution_count": null,
      "id": "z1Mt2gKrdNKM",
      "metadata": {
        "colab": {
          "base_uri": "https://localhost:8080/"
        },
        "id": "z1Mt2gKrdNKM",
        "outputId": "628ee285-4661-4ef0-c0d3-a3bfc538d9a0"
      },
      "outputs": [
        {
          "name": "stdout",
          "output_type": "stream",
          "text": [
            "Intent: BookHotel\n",
            "Next Action: ElicitSlot\n",
            "Next Slot: Location\n",
            "Prompt or Msg: What city will you be staying in?\n"
          ]
        }
      ],
      "source": [
        "print(\"Intent:\",response['sessionState']['intent']['name'])\n",
        "print(\"Next Action:\",response['sessionState']['dialogAction']['type'])\n",
        "print(\"Next Slot:\",response['sessionState']['dialogAction']['slotToElicit'])\n",
        "print(\"Prompt or Msg:\",response['messages'][0]['content'])"
      ]
    },
    {
      "cell_type": "code",
      "execution_count": null,
      "id": "f563c36f",
      "metadata": {
        "colab": {
          "base_uri": "https://localhost:8080/"
        },
        "id": "f563c36f",
        "outputId": "a978ed9b-1f44-4f4c-da46-210e98b76181"
      },
      "outputs": [
        {
          "name": "stdout",
          "output_type": "stream",
          "text": [
            "Intent: BookHotel\n",
            "Next Action: ElicitSlot\n",
            "Next Slot: CheckInDate\n",
            "Prompt or Msg: What day do you want to check in?\n"
          ]
        }
      ],
      "source": [
        "response = client.recognize_text(\n",
        "    botId=botId,\n",
        "    botAliasId=botAliasId,\n",
        "    localeId=localeId,\n",
        "    sessionId=sessionId,\n",
        "    text='Mumbai')\n",
        "print(\"Intent:\",response['sessionState']['intent']['name'])\n",
        "print(\"Next Action:\",response['sessionState']['dialogAction']['type'])\n",
        "print(\"Next Slot:\",response['sessionState']['dialogAction']['slotToElicit'])\n",
        "print(\"Prompt or Msg:\",response['messages'][0]['content'])"
      ]
    },
    {
      "cell_type": "code",
      "execution_count": null,
      "id": "ab59a1d4",
      "metadata": {
        "colab": {
          "base_uri": "https://localhost:8080/"
        },
        "id": "ab59a1d4",
        "outputId": "2aeb37c4-f25b-4207-899f-d6143a90e43b"
      },
      "outputs": [
        {
          "name": "stdout",
          "output_type": "stream",
          "text": [
            "Intent: BookHotel\n",
            "Next Action: ElicitSlot\n",
            "Next Slot: Nights\n",
            "Prompt or Msg: How many nights will you be staying?\n"
          ]
        }
      ],
      "source": [
        "response = client.recognize_text(\n",
        "    botId=botId,\n",
        "    botAliasId=botAliasId,\n",
        "    localeId=localeId,\n",
        "    sessionId=sessionId,\n",
        "    text='25-08-2022')\n",
        "print(\"Intent:\",response['sessionState']['intent']['name'])\n",
        "print(\"Next Action:\",response['sessionState']['dialogAction']['type'])\n",
        "print(\"Next Slot:\",response['sessionState']['dialogAction']['slotToElicit'])\n",
        "print(\"Prompt or Msg:\",response['messages'][0]['content'])"
      ]
    },
    {
      "cell_type": "code",
      "execution_count": null,
      "id": "jhPZ-sHNZAV3",
      "metadata": {
        "colab": {
          "base_uri": "https://localhost:8080/"
        },
        "id": "jhPZ-sHNZAV3",
        "outputId": "0d62ffb2-dcc4-49c1-e181-376a88f11049"
      },
      "outputs": [
        {
          "name": "stdout",
          "output_type": "stream",
          "text": [
            "Intent: BookHotel\n",
            "Next Action: ElicitSlot\n",
            "Next Slot: RoomType\n",
            "Prompt or Msg: What type of room would you like, queen, king, or deluxe?\n"
          ]
        }
      ],
      "source": [
        "response = client.recognize_text(\n",
        "    botId=botId,\n",
        "    botAliasId=botAliasId,\n",
        "    localeId=localeId,\n",
        "    sessionId=sessionId,\n",
        "    text='3')\n",
        "print(\"Intent:\",response['sessionState']['intent']['name'])\n",
        "print(\"Next Action:\",response['sessionState']['dialogAction']['type'])\n",
        "print(\"Next Slot:\",response['sessionState']['dialogAction']['slotToElicit'])\n",
        "print(\"Prompt or Msg:\",response['messages'][0]['content'])"
      ]
    },
    {
      "cell_type": "code",
      "execution_count": null,
      "id": "A5k35hFFc99i",
      "metadata": {
        "colab": {
          "base_uri": "https://localhost:8080/"
        },
        "id": "A5k35hFFc99i",
        "outputId": "305cebe2-73cc-4eac-874d-0088c5e9b1fe"
      },
      "outputs": [
        {
          "data": {
            "text/plain": [
              "{'ResponseMetadata': {'RequestId': '8e284e11-ac4f-46bd-9286-e7140c4c250f',\n",
              "  'HTTPStatusCode': 200,\n",
              "  'HTTPHeaders': {'x-amzn-requestid': '8e284e11-ac4f-46bd-9286-e7140c4c250f',\n",
              "   'strict-transport-security': 'max-age=31536000; includeSubDomains',\n",
              "   'x-content-type-options': 'nosniff',\n",
              "   'date': 'Tue, 23 Aug 2022 18:28:10 GMT',\n",
              "   'content-type': 'application/json',\n",
              "   'content-length': '1385'},\n",
              "  'RetryAttempts': 0},\n",
              " 'messages': [{'content': 'Okay, I have you down for a 3 night stay in Mumbai starting 2022-08-25. Shall I book the reservation?',\n",
              "   'contentType': 'PlainText'}],\n",
              " 'sessionState': {'dialogAction': {'type': 'ConfirmIntent'},\n",
              "  'intent': {'name': 'BookHotel',\n",
              "   'slots': {'CheckInDate': {'value': {'originalValue': '25-08-2022',\n",
              "      'interpretedValue': '2022-08-25',\n",
              "      'resolvedValues': ['2022-08-25']}},\n",
              "    'Location': {'value': {'originalValue': 'Mumbai',\n",
              "      'interpretedValue': 'Mumbai',\n",
              "      'resolvedValues': ['mumbai']}},\n",
              "    'Nights': {'value': {'originalValue': '3',\n",
              "      'interpretedValue': '3',\n",
              "      'resolvedValues': ['3']}},\n",
              "    'RoomType': {'value': {'originalValue': 'king',\n",
              "      'interpretedValue': 'king',\n",
              "      'resolvedValues': ['king']}}},\n",
              "   'state': 'InProgress',\n",
              "   'confirmationState': 'None'},\n",
              "  'originatingRequestId': 'afca95a0-b457-472b-aadf-97b237ba73ea'},\n",
              " 'interpretations': [{'nluConfidence': {'score': 1.0},\n",
              "   'intent': {'name': 'BookHotel',\n",
              "    'slots': {'CheckInDate': {'value': {'originalValue': '25-08-2022',\n",
              "       'interpretedValue': '2022-08-25',\n",
              "       'resolvedValues': ['2022-08-25']}},\n",
              "     'Location': {'value': {'originalValue': 'Mumbai',\n",
              "       'interpretedValue': 'Mumbai',\n",
              "       'resolvedValues': ['mumbai']}},\n",
              "     'Nights': {'value': {'originalValue': '3',\n",
              "       'interpretedValue': '3',\n",
              "       'resolvedValues': ['3']}},\n",
              "     'RoomType': {'value': {'originalValue': 'king',\n",
              "       'interpretedValue': 'king',\n",
              "       'resolvedValues': ['king']}}},\n",
              "    'state': 'InProgress',\n",
              "    'confirmationState': 'None'}},\n",
              "  {'intent': {'name': 'FallbackIntent', 'slots': {}}}],\n",
              " 'sessionId': '100'}"
            ]
          },
          "execution_count": 10,
          "metadata": {},
          "output_type": "execute_result"
        }
      ],
      "source": [
        "response = client.recognize_text(\n",
        "    botId=botId,\n",
        "    botAliasId=botAliasId,\n",
        "    localeId=localeId,\n",
        "    sessionId=sessionId,\n",
        "    text='king')\n",
        "response"
      ]
    },
    {
      "cell_type": "code",
      "execution_count": null,
      "id": "SMR9E_-mdAr6",
      "metadata": {
        "colab": {
          "base_uri": "https://localhost:8080/"
        },
        "id": "SMR9E_-mdAr6",
        "outputId": "9f2d6408-06a3-4ce4-ba09-e920d2568d83"
      },
      "outputs": [
        {
          "data": {
            "text/plain": [
              "{'ResponseMetadata': {'RequestId': 'e4d4b731-50f3-4b3f-a0b0-7ae76340ccbd',\n",
              "  'HTTPStatusCode': 200,\n",
              "  'HTTPHeaders': {'x-amzn-requestid': 'e4d4b731-50f3-4b3f-a0b0-7ae76340ccbd',\n",
              "   'strict-transport-security': 'max-age=31536000; includeSubDomains',\n",
              "   'x-content-type-options': 'nosniff',\n",
              "   'date': 'Tue, 23 Aug 2022 18:29:04 GMT',\n",
              "   'content-type': 'application/json',\n",
              "   'content-length': '1322'},\n",
              "  'RetryAttempts': 0},\n",
              " 'messages': [{'content': 'Thanks, I have placed your reservation',\n",
              "   'contentType': 'PlainText'}],\n",
              " 'sessionState': {'dialogAction': {'type': 'Close'},\n",
              "  'intent': {'name': 'BookHotel',\n",
              "   'slots': {'CheckInDate': {'value': {'originalValue': '25-08-2022',\n",
              "      'interpretedValue': '2022-08-25',\n",
              "      'resolvedValues': ['2022-08-25']}},\n",
              "    'Location': {'value': {'originalValue': 'Mumbai',\n",
              "      'interpretedValue': 'Mumbai',\n",
              "      'resolvedValues': ['mumbai']}},\n",
              "    'Nights': {'value': {'originalValue': '3',\n",
              "      'interpretedValue': '3',\n",
              "      'resolvedValues': ['3']}},\n",
              "    'RoomType': {'value': {'originalValue': 'king',\n",
              "      'interpretedValue': 'king',\n",
              "      'resolvedValues': ['king']}}},\n",
              "   'state': 'Fulfilled',\n",
              "   'confirmationState': 'Confirmed'},\n",
              "  'originatingRequestId': 'afca95a0-b457-472b-aadf-97b237ba73ea'},\n",
              " 'interpretations': [{'nluConfidence': {'score': 1.0},\n",
              "   'intent': {'name': 'BookHotel',\n",
              "    'slots': {'CheckInDate': {'value': {'originalValue': '25-08-2022',\n",
              "       'interpretedValue': '2022-08-25',\n",
              "       'resolvedValues': ['2022-08-25']}},\n",
              "     'Location': {'value': {'originalValue': 'Mumbai',\n",
              "       'interpretedValue': 'Mumbai',\n",
              "       'resolvedValues': ['mumbai']}},\n",
              "     'Nights': {'value': {'originalValue': '3',\n",
              "       'interpretedValue': '3',\n",
              "       'resolvedValues': ['3']}},\n",
              "     'RoomType': {'value': {'originalValue': 'king',\n",
              "       'interpretedValue': 'king',\n",
              "       'resolvedValues': ['king']}}},\n",
              "    'state': 'Fulfilled',\n",
              "    'confirmationState': 'Confirmed'}},\n",
              "  {'intent': {'name': 'FallbackIntent', 'slots': {}}}],\n",
              " 'sessionId': '100'}"
            ]
          },
          "execution_count": 11,
          "metadata": {},
          "output_type": "execute_result"
        }
      ],
      "source": [
        "response = client.recognize_text(\n",
        "    botId=botId,\n",
        "    botAliasId=botAliasId,\n",
        "    localeId=localeId,\n",
        "    sessionId=sessionId,\n",
        "    text='Yes')\n",
        "response"
      ]
    },
    {
      "cell_type": "code",
      "execution_count": null,
      "id": "867aMkbgdHNQ",
      "metadata": {
        "id": "867aMkbgdHNQ"
      },
      "outputs": [],
      "source": []
    }
  ],
  "metadata": {
    "colab": {
      "collapsed_sections": [],
      "include_colab_link": true,
      "name": "AWS Lex boto3 : Youtube.ipynb",
      "provenance": []
    },
    "kernelspec": {
      "display_name": "Python 3 (ipykernel)",
      "language": "python",
      "name": "python3"
    },
    "language_info": {
      "codemirror_mode": {
        "name": "ipython",
        "version": 3
      },
      "file_extension": ".py",
      "mimetype": "text/x-python",
      "name": "python",
      "nbconvert_exporter": "python",
      "pygments_lexer": "ipython3",
      "version": "3.9.7"
    }
  },
  "nbformat": 4,
  "nbformat_minor": 5
}
